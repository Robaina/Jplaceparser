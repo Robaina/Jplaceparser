{
 "cells": [
  {
   "cell_type": "markdown",
   "metadata": {},
   "source": [
    "# JplaceParser\n",
    "a Python tool to parse and manipulate JPlace files, the format of Evolutionary Placement results."
   ]
  },
  {
   "cell_type": "code",
   "execution_count": 1,
   "metadata": {},
   "outputs": [
    {
     "data": {
      "text/html": [
       "\n",
       "        <table>\n",
       "            <tr>\n",
       "                <td><strong>Number of Placements</strong></td><td>19</td>\n",
       "            </tr><tr>\n",
       "                <td><strong>Fields</strong></td><td>edge_num, likelihood, like_weight_ratio, distal_length, pendant_length</td>\n",
       "            </tr><tr>\n",
       "                <td><strong>JplaceParser version</strong></td><td>0.0.1</td>\n",
       "            </tr><tr>\n",
       "                <td><strong>Author</strong></td><td>Semidán Robaina Estévez, 2022</td>\n",
       "            </tr>\n",
       "        </table>\n",
       "        "
      ],
      "text/plain": [
       "<jplaceparser.parser.JplaceParser at 0x7f0830d44940>"
      ]
     },
     "execution_count": 1,
     "metadata": {},
     "output_type": "execute_result"
    }
   ],
   "source": [
    "from jplaceparser import JplaceParser\n",
    "\n",
    "\n",
    "jplace = JplaceParser.fromJplaceFile(\"example.jplace\")\n",
    "jplace"
   ]
  },
  {
   "cell_type": "code",
   "execution_count": 8,
   "metadata": {},
   "outputs": [
    {
     "name": "stdout",
     "output_type": "stream",
     "text": [
      "Filtering placements for tree diameter: 4.519636416\n"
     ]
    },
    {
     "data": {
      "text/html": [
       "\n",
       "        <table>\n",
       "            <tr>\n",
       "                <td><strong>Number of Placements</strong></td><td>9</td>\n",
       "            </tr><tr>\n",
       "                <td><strong>Fields</strong></td><td>edge_num, likelihood, like_weight_ratio, distal_length, pendant_length</td>\n",
       "            </tr><tr>\n",
       "                <td><strong>JplaceParser version</strong></td><td>0.0.1</td>\n",
       "            </tr><tr>\n",
       "                <td><strong>Author</strong></td><td>Semidán Robaina Estévez, 2022</td>\n",
       "            </tr>\n",
       "        </table>\n",
       "        "
      ],
      "text/plain": [
       "<jplaceparser.parser.JplaceParser at 0x7f0831a76f40>"
      ]
     },
     "execution_count": 8,
     "metadata": {},
     "output_type": "execute_result"
    }
   ],
   "source": [
    "filtered_jplace = jplace.filterByMaxPendantToTreeDiameterRatio(\n",
    "    max_pendant_ratio=0.001\n",
    ")\n",
    "\n",
    "filtered_jplace.writeToFile(\"filtered_example.jplace\")\n",
    "\n",
    "filtered_jplace"
   ]
  }
 ],
 "metadata": {
  "kernelspec": {
   "display_name": "Python 3 (ipykernel)",
   "language": "python",
   "name": "python3"
  },
  "language_info": {
   "codemirror_mode": {
    "name": "ipython",
    "version": 3
   },
   "file_extension": ".py",
   "mimetype": "text/x-python",
   "name": "python",
   "nbconvert_exporter": "python",
   "pygments_lexer": "ipython3",
   "version": "3.9.6"
  },
  "vscode": {
   "interpreter": {
    "hash": "367a058ebb24ea2c2bb1633bf810ec6a1a05f59e065f27f721ea93103e797079"
   }
  }
 },
 "nbformat": 4,
 "nbformat_minor": 4
}
