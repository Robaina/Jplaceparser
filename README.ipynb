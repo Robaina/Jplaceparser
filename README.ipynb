{
 "cells": [
  {
   "cell_type": "markdown",
   "metadata": {},
   "source": [
    "# JplaceParser\n",
    "\n",
    "[![DOI](https://zenodo.org/badge/428328886.svg)](https://zenodo.org/badge/latestdoi/428328886)\n",
    "\n",
    "Python tools to parse and manipulate [JPlace files](https://journals.plos.org/plosone/article?id=10.1371/journal.pone.0031009), the format of [Evolutionary Placement](https://arxiv.org/abs/0911.2852) results.\n",
    "\n",
    "\n",
    "JplaceParser allows not only reading Jplace files as python dictionaries but also manipulating field values and exporting back to jplace files. It contains a number of filters to remove placements that do not satisfy quality criteria. Currently, placements can be filtered by three criteria involving the [pendant and distal](https://github.com/lczech/gappa/wiki/Subcommand:-assign#automatic-ratio-example) placement length as well as the phylogenetic tree diameter:\n",
    "\n",
    "* Filter by maximum pendant length\n",
    "* Filter by maximum pendant to distal length ratio\n",
    "* Filter by maximum pendant to tree diameter ratio\n",
    "\n",
    "This is an ongoing project!\n",
    "\n",
    "## Installation\n",
    "1. ```pip install jplaceparser```\n",
    "\n",
    "or\n",
    "\n",
    "2. Git clone project to local directory.\n",
    "\n",
    "   In terminal navigate to directory and enter: ```python setup.py install```"
   ]
  },
  {
   "cell_type": "code",
   "execution_count": 1,
   "metadata": {},
   "outputs": [
    {
     "data": {
      "text/html": [
       "\n",
       "        <table>\n",
       "            <tr>\n",
       "                <td><strong>Number of Placements</strong></td><td>19</td>\n",
       "            </tr><tr>\n",
       "                <td><strong>Fields</strong></td><td>edge_num, likelihood, like_weight_ratio, distal_length, pendant_length</td>\n",
       "            </tr><tr>\n",
       "                <td><strong>JplaceParser version</strong></td><td>0.0.1</td>\n",
       "            </tr><tr>\n",
       "                <td><strong>Author</strong></td><td>Semidán Robaina Estévez, 2022</td>\n",
       "            </tr>\n",
       "        </table>\n",
       "        "
      ],
      "text/plain": [
       "<jplaceparser.parser.JplaceParser at 0x7f0830d44940>"
      ]
     },
     "execution_count": 1,
     "metadata": {},
     "output_type": "execute_result"
    }
   ],
   "source": [
    "from jplaceparser import JplaceParser\n",
    "\n",
    "\n",
    "jplace = JplaceParser.fromJplaceFile(\"examples/example.jplace\")\n",
    "jplace"
   ]
  },
  {
   "cell_type": "code",
   "execution_count": 8,
   "metadata": {},
   "outputs": [
    {
     "name": "stdout",
     "output_type": "stream",
     "text": [
      "Filtering placements for tree diameter: 4.519636416\n"
     ]
    },
    {
     "data": {
      "text/html": [
       "\n",
       "        <table>\n",
       "            <tr>\n",
       "                <td><strong>Number of Placements</strong></td><td>9</td>\n",
       "            </tr><tr>\n",
       "                <td><strong>Fields</strong></td><td>edge_num, likelihood, like_weight_ratio, distal_length, pendant_length</td>\n",
       "            </tr><tr>\n",
       "                <td><strong>JplaceParser version</strong></td><td>0.0.1</td>\n",
       "            </tr><tr>\n",
       "                <td><strong>Author</strong></td><td>Semidán Robaina Estévez, 2022</td>\n",
       "            </tr>\n",
       "        </table>\n",
       "        "
      ],
      "text/plain": [
       "<jplaceparser.parser.JplaceParser at 0x7f0831a76f40>"
      ]
     },
     "execution_count": 8,
     "metadata": {},
     "output_type": "execute_result"
    }
   ],
   "source": [
    "filtered_jplace = jplace.filterByMaxPendantToTreeDiameterRatio(\n",
    "    max_pendant_ratio=0.001\n",
    ")\n",
    "\n",
    "filtered_jplace.writeToFile(\"examples/filtered_example.jplace\")\n",
    "\n",
    "filtered_jplace"
   ]
  }
 ],
 "metadata": {
  "kernelspec": {
   "display_name": "Python 3 (ipykernel)",
   "language": "python",
   "name": "python3"
  },
  "language_info": {
   "codemirror_mode": {
    "name": "ipython",
    "version": 3
   },
   "file_extension": ".py",
   "mimetype": "text/x-python",
   "name": "python",
   "nbconvert_exporter": "python",
   "pygments_lexer": "ipython3",
   "version": "3.8.12"
  },
  "vscode": {
   "interpreter": {
    "hash": "367a058ebb24ea2c2bb1633bf810ec6a1a05f59e065f27f721ea93103e797079"
   }
  }
 },
 "nbformat": 4,
 "nbformat_minor": 4
}
